{
 "cells": [
  {
   "cell_type": "code",
   "execution_count": 2,
   "metadata": {},
   "outputs": [],
   "source": [
    "import csv\n",
    "\n",
    "import os \n",
    "\n",
    "import matplotlib.pyplot as plt \n",
    "\n",
    "import statistics\n",
    "\n",
    "import pandas as pd\n",
    "  \n",
    "\n",
    "import numpy as np\n",
    "\n"
   ]
  },
  {
   "cell_type": "code",
   "execution_count": 3,
   "metadata": {},
   "outputs": [],
   "source": [
    "df=pd.read_csv('USA_cars_datasets.csv')"
   ]
  },
  {
   "cell_type": "code",
   "execution_count": 4,
   "metadata": {},
   "outputs": [
    {
     "name": "stdout",
     "output_type": "stream",
     "text": [
      "      Unnamed: 0  price      brand    model  year   title_status   mileage  \\\n",
      "0              0   6300     toyota  cruiser  2008  clean vehicle  274117.0   \n",
      "1              1   2899       ford       se  2011  clean vehicle  190552.0   \n",
      "2              2   5350      dodge      mpv  2018  clean vehicle   39590.0   \n",
      "3              3  25000       ford     door  2014  clean vehicle   64146.0   \n",
      "4              4  27700  chevrolet     1500  2018  clean vehicle    6654.0   \n",
      "...          ...    ...        ...      ...   ...            ...       ...   \n",
      "2494        2494   7800     nissan    versa  2019  clean vehicle   23609.0   \n",
      "2495        2495   9200     nissan    versa  2018  clean vehicle   34553.0   \n",
      "2496        2496   9200     nissan    versa  2018  clean vehicle   31594.0   \n",
      "2497        2497   9200     nissan    versa  2018  clean vehicle   32557.0   \n",
      "2498        2498   9200     nissan    versa  2018  clean vehicle   31371.0   \n",
      "\n",
      "       color                  vin        lot       state country  \\\n",
      "0      black    jtezu11f88k007763  159348797  new jersey     usa   \n",
      "1     silver    2fmdk3gc4bbb02217  166951262   tennessee     usa   \n",
      "2     silver    3c4pdcgg5jt346413  167655728     georgia     usa   \n",
      "3       blue    1ftfw1et4efc23745  167753855    virginia     usa   \n",
      "4        red    3gcpcrec2jg473991  167763266     florida     usa   \n",
      "...      ...                  ...        ...         ...     ...   \n",
      "2494     red    3n1cn7ap9kl880319  167722715  california     usa   \n",
      "2495  silver    3n1cn7ap5jl884088  167762225     florida     usa   \n",
      "2496  silver    3n1cn7ap9jl884191  167762226     florida     usa   \n",
      "2497   black    3n1cn7ap3jl883263  167762227     florida     usa   \n",
      "2498  silver    3n1cn7ap4jl884311  167762228     florida     usa   \n",
      "\n",
      "          condition  \n",
      "0      10 days left  \n",
      "1       6 days left  \n",
      "2       2 days left  \n",
      "3     22 hours left  \n",
      "4     22 hours left  \n",
      "...             ...  \n",
      "2494    1 days left  \n",
      "2495  21 hours left  \n",
      "2496  21 hours left  \n",
      "2497    2 days left  \n",
      "2498  21 hours left  \n",
      "\n",
      "[2499 rows x 13 columns]\n"
     ]
    }
   ],
   "source": [
    "print (df)"
   ]
  },
  {
   "cell_type": "code",
   "execution_count": 5,
   "metadata": {},
   "outputs": [],
   "source": [
    "clean_csv = df.dropna()"
   ]
  },
  {
   "cell_type": "code",
   "execution_count": 6,
   "metadata": {},
   "outputs": [
    {
     "data": {
      "text/html": [
       "<div>\n",
       "<style scoped>\n",
       "    .dataframe tbody tr th:only-of-type {\n",
       "        vertical-align: middle;\n",
       "    }\n",
       "\n",
       "    .dataframe tbody tr th {\n",
       "        vertical-align: top;\n",
       "    }\n",
       "\n",
       "    .dataframe thead th {\n",
       "        text-align: right;\n",
       "    }\n",
       "</style>\n",
       "<table border=\"1\" class=\"dataframe\">\n",
       "  <thead>\n",
       "    <tr style=\"text-align: right;\">\n",
       "      <th></th>\n",
       "      <th>Unnamed: 0</th>\n",
       "      <th>price</th>\n",
       "      <th>brand</th>\n",
       "      <th>model</th>\n",
       "      <th>year</th>\n",
       "      <th>title_status</th>\n",
       "      <th>mileage</th>\n",
       "      <th>color</th>\n",
       "      <th>vin</th>\n",
       "      <th>lot</th>\n",
       "      <th>state</th>\n",
       "      <th>country</th>\n",
       "      <th>condition</th>\n",
       "    </tr>\n",
       "  </thead>\n",
       "  <tbody>\n",
       "    <tr>\n",
       "      <th>0</th>\n",
       "      <td>0</td>\n",
       "      <td>6300</td>\n",
       "      <td>toyota</td>\n",
       "      <td>cruiser</td>\n",
       "      <td>2008</td>\n",
       "      <td>clean vehicle</td>\n",
       "      <td>274117.0</td>\n",
       "      <td>black</td>\n",
       "      <td>jtezu11f88k007763</td>\n",
       "      <td>159348797</td>\n",
       "      <td>new jersey</td>\n",
       "      <td>usa</td>\n",
       "      <td>10 days left</td>\n",
       "    </tr>\n",
       "    <tr>\n",
       "      <th>1</th>\n",
       "      <td>1</td>\n",
       "      <td>2899</td>\n",
       "      <td>ford</td>\n",
       "      <td>se</td>\n",
       "      <td>2011</td>\n",
       "      <td>clean vehicle</td>\n",
       "      <td>190552.0</td>\n",
       "      <td>silver</td>\n",
       "      <td>2fmdk3gc4bbb02217</td>\n",
       "      <td>166951262</td>\n",
       "      <td>tennessee</td>\n",
       "      <td>usa</td>\n",
       "      <td>6 days left</td>\n",
       "    </tr>\n",
       "    <tr>\n",
       "      <th>2</th>\n",
       "      <td>2</td>\n",
       "      <td>5350</td>\n",
       "      <td>dodge</td>\n",
       "      <td>mpv</td>\n",
       "      <td>2018</td>\n",
       "      <td>clean vehicle</td>\n",
       "      <td>39590.0</td>\n",
       "      <td>silver</td>\n",
       "      <td>3c4pdcgg5jt346413</td>\n",
       "      <td>167655728</td>\n",
       "      <td>georgia</td>\n",
       "      <td>usa</td>\n",
       "      <td>2 days left</td>\n",
       "    </tr>\n",
       "    <tr>\n",
       "      <th>3</th>\n",
       "      <td>3</td>\n",
       "      <td>25000</td>\n",
       "      <td>ford</td>\n",
       "      <td>door</td>\n",
       "      <td>2014</td>\n",
       "      <td>clean vehicle</td>\n",
       "      <td>64146.0</td>\n",
       "      <td>blue</td>\n",
       "      <td>1ftfw1et4efc23745</td>\n",
       "      <td>167753855</td>\n",
       "      <td>virginia</td>\n",
       "      <td>usa</td>\n",
       "      <td>22 hours left</td>\n",
       "    </tr>\n",
       "    <tr>\n",
       "      <th>4</th>\n",
       "      <td>4</td>\n",
       "      <td>27700</td>\n",
       "      <td>chevrolet</td>\n",
       "      <td>1500</td>\n",
       "      <td>2018</td>\n",
       "      <td>clean vehicle</td>\n",
       "      <td>6654.0</td>\n",
       "      <td>red</td>\n",
       "      <td>3gcpcrec2jg473991</td>\n",
       "      <td>167763266</td>\n",
       "      <td>florida</td>\n",
       "      <td>usa</td>\n",
       "      <td>22 hours left</td>\n",
       "    </tr>\n",
       "  </tbody>\n",
       "</table>\n",
       "</div>"
      ],
      "text/plain": [
       "   Unnamed: 0  price      brand    model  year   title_status   mileage  \\\n",
       "0           0   6300     toyota  cruiser  2008  clean vehicle  274117.0   \n",
       "1           1   2899       ford       se  2011  clean vehicle  190552.0   \n",
       "2           2   5350      dodge      mpv  2018  clean vehicle   39590.0   \n",
       "3           3  25000       ford     door  2014  clean vehicle   64146.0   \n",
       "4           4  27700  chevrolet     1500  2018  clean vehicle    6654.0   \n",
       "\n",
       "    color                  vin        lot       state country      condition  \n",
       "0   black    jtezu11f88k007763  159348797  new jersey     usa   10 days left  \n",
       "1  silver    2fmdk3gc4bbb02217  166951262   tennessee     usa    6 days left  \n",
       "2  silver    3c4pdcgg5jt346413  167655728     georgia     usa    2 days left  \n",
       "3    blue    1ftfw1et4efc23745  167753855    virginia     usa  22 hours left  \n",
       "4     red    3gcpcrec2jg473991  167763266     florida     usa  22 hours left  "
      ]
     },
     "execution_count": 6,
     "metadata": {},
     "output_type": "execute_result"
    }
   ],
   "source": [
    "clean_csv.head()"
   ]
  },
  {
   "cell_type": "code",
   "execution_count": 7,
   "metadata": {},
   "outputs": [],
   "source": [
    "df['price_mileage_Ratio']= df ['price']/df['mileage']"
   ]
  },
  {
   "cell_type": "code",
   "execution_count": 8,
   "metadata": {},
   "outputs": [
    {
     "data": {
      "text/plain": [
       "brand\n",
       "acura              118250.0\n",
       "audi               121627.5\n",
       "bmw                 33110.0\n",
       "buick               25434.0\n",
       "cadillac            34008.0\n",
       "chevrolet           46494.0\n",
       "chrysler            40189.0\n",
       "dodge               32548.5\n",
       "ford                34277.0\n",
       "gmc                 32980.5\n",
       "harley-davidson      9502.0\n",
       "heartland               1.0\n",
       "honda               78075.0\n",
       "hyundai             35623.0\n",
       "infiniti            20979.5\n",
       "jaguar              20849.0\n",
       "jeep                29653.0\n",
       "kia                 43761.0\n",
       "land                26982.5\n",
       "lexus               22391.0\n",
       "lincoln             52123.0\n",
       "maserati            37021.0\n",
       "mazda               82647.0\n",
       "mercedes-benz       44460.0\n",
       "nissan              36460.5\n",
       "peterbilt          942263.5\n",
       "ram                 30421.0\n",
       "toyota             274117.0\n",
       "Name: mileage, dtype: float64"
      ]
     },
     "execution_count": 8,
     "metadata": {},
     "output_type": "execute_result"
    }
   ],
   "source": [
    "brand_mileage  = df.groupby('brand')['mileage'].median()\n",
    "brand_mileage"
   ]
  },
  {
   "cell_type": "code",
   "execution_count": 9,
   "metadata": {},
   "outputs": [
    {
     "data": {
      "text/plain": [
       "{'brand mileage': brand\n",
       " acura              118250.0\n",
       " audi               121627.5\n",
       " bmw                 33110.0\n",
       " buick               25434.0\n",
       " cadillac            34008.0\n",
       " chevrolet           46494.0\n",
       " chrysler            40189.0\n",
       " dodge               32548.5\n",
       " ford                34277.0\n",
       " gmc                 32980.5\n",
       " harley-davidson      9502.0\n",
       " heartland               1.0\n",
       " honda               78075.0\n",
       " hyundai             35623.0\n",
       " infiniti            20979.5\n",
       " jaguar              20849.0\n",
       " jeep                29653.0\n",
       " kia                 43761.0\n",
       " land                26982.5\n",
       " lexus               22391.0\n",
       " lincoln             52123.0\n",
       " maserati            37021.0\n",
       " mazda               82647.0\n",
       " mercedes-benz       44460.0\n",
       " nissan              36460.5\n",
       " peterbilt          942263.5\n",
       " ram                 30421.0\n",
       " toyota             274117.0\n",
       " Name: mileage, dtype: float64}"
      ]
     },
     "execution_count": 9,
     "metadata": {},
     "output_type": "execute_result"
    }
   ],
   "source": [
    "ratio ={\n",
    "    \n",
    "    'brand mileage': brand_mileage\n",
    "\n",
    "\n",
    "\n",
    "}\n",
    "ratio"
   ]
  },
  {
   "cell_type": "code",
   "execution_count": 16,
   "metadata": {},
   "outputs": [
    {
     "ename": "NameError",
     "evalue": "name 'mileages' is not defined",
     "output_type": "error",
     "traceback": [
      "\u001b[0;31m---------------------------------------------------------------------------\u001b[0m",
      "\u001b[0;31mNameError\u001b[0m                                 Traceback (most recent call last)",
      "Cell \u001b[0;32mIn[16], line 4\u001b[0m\n\u001b[1;32m      1\u001b[0m \u001b[38;5;28;01mimport\u001b[39;00m \u001b[38;5;21;01mmatplotlib\u001b[39;00m\u001b[38;5;21;01m.\u001b[39;00m\u001b[38;5;21;01mpyplot\u001b[39;00m \u001b[38;5;28;01mas\u001b[39;00m \u001b[38;5;21;01mplt\u001b[39;00m\n\u001b[1;32m      3\u001b[0m plt\u001b[38;5;241m.\u001b[39mfigure(figsize\u001b[38;5;241m=\u001b[39m(\u001b[38;5;241m12\u001b[39m, \u001b[38;5;241m6\u001b[39m))\n\u001b[0;32m----> 4\u001b[0m plt\u001b[38;5;241m.\u001b[39mbarh(brand_mileage, \u001b[43mmileages\u001b[49m, color\u001b[38;5;241m=\u001b[39m\u001b[38;5;124m'\u001b[39m\u001b[38;5;124mskyblue\u001b[39m\u001b[38;5;124m'\u001b[39m)\n\u001b[1;32m      5\u001b[0m plt\u001b[38;5;241m.\u001b[39mxlabel(\u001b[38;5;124m'\u001b[39m\u001b[38;5;124mMileage\u001b[39m\u001b[38;5;124m'\u001b[39m)\n\u001b[1;32m      6\u001b[0m plt\u001b[38;5;241m.\u001b[39mylabel(\u001b[38;5;124m'\u001b[39m\u001b[38;5;124mBrand\u001b[39m\u001b[38;5;124m'\u001b[39m)\n",
      "\u001b[0;31mNameError\u001b[0m: name 'mileages' is not defined"
     ]
    },
    {
     "data": {
      "text/plain": [
       "<Figure size 1200x600 with 0 Axes>"
      ]
     },
     "metadata": {},
     "output_type": "display_data"
    }
   ],
   "source": [
    "import matplotlib.pyplot as plt\n",
    "\n",
    "plt.figure(figsize=(12, 6))\n",
    "plt.barh(brand_mileage, mileage, color='skyblue')\n",
    "plt.xlabel('Mileage')\n",
    "plt.ylabel('Brand')\n",
    "plt.title('Mileage of Different Brands')\n",
    "plt.tight_layout()\n",
    "plt.show()"
   ]
  }
 ],
 "metadata": {
  "kernelspec": {
   "display_name": "dev",
   "language": "python",
   "name": "python3"
  },
  "language_info": {
   "codemirror_mode": {
    "name": "ipython",
    "version": 3
   },
   "file_extension": ".py",
   "mimetype": "text/x-python",
   "name": "python",
   "nbconvert_exporter": "python",
   "pygments_lexer": "ipython3",
   "version": "3.10.13"
  }
 },
 "nbformat": 4,
 "nbformat_minor": 2
}
